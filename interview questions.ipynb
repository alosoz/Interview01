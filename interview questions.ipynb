{
  "nbformat": 4,
  "nbformat_minor": 0,
  "metadata": {
    "colab": {
      "provenance": [],
      "toc_visible": true,
      "authorship_tag": "ABX9TyMUx6Jl+LV54KI5jlnTWUs4",
      "include_colab_link": true
    },
    "kernelspec": {
      "name": "python3",
      "display_name": "Python 3"
    },
    "language_info": {
      "name": "python"
    }
  },
  "cells": [
    {
      "cell_type": "markdown",
      "metadata": {
        "id": "view-in-github",
        "colab_type": "text"
      },
      "source": [
        "<a href=\"https://colab.research.google.com/github/alosoz/Interview01/blob/main/interview%20questions.ipynb\" target=\"_parent\"><img src=\"https://colab.research.google.com/assets/colab-badge.svg\" alt=\"Open In Colab\"/></a>"
      ]
    },
    {
      "cell_type": "markdown",
      "source": [
        "#**Interview Questions**"
      ],
      "metadata": {
        "id": "zy8kC0FLnwD6"
      }
    },
    {
      "cell_type": "markdown",
      "source": [
        "##**General Questions**"
      ],
      "metadata": {
        "id": "WfijNj-Bp0D6"
      }
    },
    {
      "cell_type": "markdown",
      "source": [
        "1.\t2 more cow."
      ],
      "metadata": {
        "id": "gn2WC67wnwYF"
      }
    },
    {
      "cell_type": "markdown",
      "source": [
        "2. 4036"
      ],
      "metadata": {
        "id": "bSycSeG2nwaj"
      }
    },
    {
      "cell_type": "markdown",
      "source": [
        "3. A"
      ],
      "metadata": {
        "id": "3bz0YP01nwdM"
      }
    },
    {
      "cell_type": "markdown",
      "source": [
        "4.\t12 meter"
      ],
      "metadata": {
        "id": "ooecGoLlqDrT"
      }
    },
    {
      "cell_type": "markdown",
      "source": [
        "5.\tFirst Adam and Dave cross (11 min) then Adam turns back (1 min)\n",
        "Second Adam and Clair cross then Adam turns back (1 min)\n",
        "And last Adam and Bob cross (2 min)\n",
        "That's why Adam gets very tired but feels happy to help his friends. 😊\n"
      ],
      "metadata": {
        "id": "w0fKFdednwgD"
      }
    },
    {
      "cell_type": "markdown",
      "source": [
        "##**MySQL Questions:**"
      ],
      "metadata": {
        "id": "pdw-BB-rnwi0"
      }
    },
    {
      "cell_type": "code",
      "source": [
        "6.\tSELECT Source, COUNT(*) TotalTransactions\n",
        "    FROM transactions\n",
        "    GROUP BY Source:\n"
      ],
      "metadata": {
        "id": "MJteKOYepl8R"
      },
      "execution_count": null,
      "outputs": []
    },
    {
      "cell_type": "code",
      "source": [
        "7.\t SLECT AVG(Amaount) AS AverageAmount\n",
        "     FROM transactions\n",
        "     WHERE MONTH(Timestamp) = 1;\n"
      ],
      "metadata": {
        "id": "mH-Xh6vrpl2x"
      },
      "execution_count": null,
      "outputs": []
    },
    {
      "cell_type": "code",
      "execution_count": null,
      "metadata": {
        "id": "mivRmHJLm6ov"
      },
      "outputs": [],
      "source": [
        "8.  UPDATE transactions AS t1\n",
        "    JOIN transactions AS t2\n",
        "    ON t1.Transactionid = t2.Transactionid\n",
        "    SET t1.Matchingstatus = 1\n",
        "    WHERE t1.Source = 'accounting_system' AND t2.Source = 'payment_service_provider';\n"
      ]
    },
    {
      "cell_type": "markdown",
      "source": [
        "Question"
      ],
      "metadata": {
        "id": "vdgGgn-Mopab"
      }
    },
    {
      "cell_type": "code",
      "source": [
        "import pandas as pd\n",
        "import numpy as np\n",
        "\n",
        "# Define the data\n",
        "data = {\n",
        "    'source': ['web_app', 'web_app', 'web_app', 'web_app', 'web_app',\n",
        "               'web_app', 'web_app', 'web_app', 'web_app','web_app',\n",
        "               'web_app', 'web_app',\n",
        "               'accounting_system', 'accounting_system', 'accounting_system', 'accounting_system', 'accounting_system',\n",
        "               'accounting_system', 'accounting_system','accounting_system', 'accounting_system', 'accounting_system',\n",
        "               'accounting_system', 'accounting_system', 'accounting_system', 'accounting_system',\n",
        "               'accounting_system', 'payment_service_provider', 'payment_service_provider', 'payment_service_provider', 'payment_service_provider',\n",
        "               'payment_service_provider', 'payment_service_provider', 'payment_service_provider', 'payment_service_provider', 'payment_service_provider',\n",
        "               'payment_service_provider', 'payment_service_provider', 'payment_service_provider', 'payment_service_provider'],\n",
        "    'transactionid': [12345, 12346, 12347, 12348, 12349, 12350, 12353, 12354, 12355, 12356,\n",
        "                      12357, 12358,\n",
        "                      12347, 12345, 12352, 12353, 12354, 12351, 12355, 12355, 12356, 12357,\n",
        "                      12357, 12358, 12350, 12349, 12346,\n",
        "                      12347, 12348, 12345, 12353, 12358, 12356, 12349, 12357, 12352,\n",
        "                      12355, 12357, 12350, 12351],\n",
        "    'amount': [2050, 2100, 2150, 2200, 2250, 2300, 2450, 2500, 2550, 2600, 2650, 2700,\n",
        "               2150, 2050, 2400, 2450, 2500, 2350, 2550, -2550, 2600, 2650, -2650, 2700,\n",
        "               2300, 2250, 2100, 2150, 2200, 2050, 2500, 2700, 2600, 2700, 2650, 2400,\n",
        "               2550, -2650, 2300, 2350]\n",
        "}\n",
        "\n",
        "# Create a DataFrame\n",
        "df = pd.DataFrame(data)"
      ],
      "metadata": {
        "id": "Cjsl1lbKnBPv"
      },
      "execution_count": 1,
      "outputs": []
    },
    {
      "cell_type": "code",
      "source": [
        "# Add a new column 'total_amount' by grouping 'source' and 'transactionid' and summing 'amount'\n",
        "df['total_amount'] = df.groupby(['source', 'transactionid'])['amount'].transform('sum')\n",
        "\n",
        "# Add a new column 'count' by grouping 'source' and 'transactionid' and counting occurrences\n",
        "df['count'] = df.groupby(['source', 'transactionid'])['amount'].transform('count')\n",
        "\n",
        "# Drop duplicates based on 'source' and 'transactionid'\n",
        "df = df.drop_duplicates(subset=['source', 'transactionid'])\n"
      ],
      "metadata": {
        "id": "FfQ9wquxnBND"
      },
      "execution_count": 2,
      "outputs": []
    },
    {
      "cell_type": "markdown",
      "source": [
        "##*Comparison web_app – accounting_system*"
      ],
      "metadata": {
        "id": "g_tUOyuLo7bQ"
      }
    },
    {
      "cell_type": "code",
      "source": [
        "# Filter for the specified sources\n",
        "web_app_df = df[df['source'] == 'web_app']\n",
        "accounting_system_df = df[df['source'] == 'accounting_system']\n",
        "payment_service_provider_df = df[df['source'] == 'payment_service_provider']\n",
        "\n"
      ],
      "metadata": {
        "id": "51YMDEeqnBKa"
      },
      "execution_count": 3,
      "outputs": []
    },
    {
      "cell_type": "code",
      "source": [
        "# Merge web_app_df with accounting_system_df using left join\n",
        "merged_df = pd.merge(web_app_df, accounting_system_df, on='transactionid', suffixes=('_web_app', '_accounting_system'), how='left')\n",
        "\n",
        "# Create 'Match_web_app' column\n",
        "merged_df['Match_web_app'] = (merged_df['amount_web_app'] == merged_df['amount_accounting_system']) & (merged_df['total_amount_web_app'] == merged_df['total_amount_accounting_system'])\n",
        "\n",
        "# Convert boolean values to 1 and 0\n",
        "merged_df['Match_web_app'] = (merged_df['Match_web_app'].astype(int)) *  (merged_df['count_web_app'])\n"
      ],
      "metadata": {
        "id": "caIbBsWLnBHz"
      },
      "execution_count": 4,
      "outputs": []
    },
    {
      "cell_type": "code",
      "source": [
        "\n",
        "# Create 'Unmatch_web_apps' column\n",
        "# If the transactionid is similar but total_amount is not similar, set to 1, else set to 0\n",
        "merged_df['Unmatch_web_apps'] = (merged_df['transactionid'].notnull()) & (~(merged_df['Match_web_app'].astype(bool))) & (merged_df['total_amount_web_app'] != merged_df['total_amount_accounting_system'])\n",
        "merged_df['Unmatch_web_apps'] = (merged_df['Unmatch_web_apps'].astype(int)) *  (merged_df['count_web_app'])\n",
        "\n",
        "# Select only the desired columns\n",
        "result_df = merged_df[['Match_web_app', 'Unmatch_web_apps']]\n",
        "\n",
        "# Calculate the sum of each column\n",
        "sum_match_web_app = result_df['Match_web_app'].sum()\n",
        "sum_unmatch_web_apps = result_df['Unmatch_web_apps'].sum()\n"
      ],
      "metadata": {
        "id": "IMiixli8nBE0"
      },
      "execution_count": 5,
      "outputs": []
    },
    {
      "cell_type": "code",
      "source": [
        "# Create a DataFrame to display the sums\n",
        "sum_df = pd.DataFrame({'Match_web_app': [sum_match_web_app],\n",
        "                       'Unmatch_web_apps': [sum_unmatch_web_apps]})\n"
      ],
      "metadata": {
        "id": "bv8O551InBCZ"
      },
      "execution_count": 6,
      "outputs": []
    },
    {
      "cell_type": "code",
      "source": [
        "# Merge accounting_system_df with web_app using left join\n",
        "merged_df_1 = pd.merge(accounting_system_df, web_app_df, on='transactionid', suffixes=('_accounting_system', '_web_app'), how='left')\n",
        "\n",
        "# Create 'Match_accounting_system' column\n",
        "merged_df_1['Match_accounting_system'] = (merged_df_1['amount_accounting_system'] == merged_df_1['amount_web_app']) & (merged_df_1['total_amount_accounting_system'] == merged_df_1['total_amount_web_app'])\n",
        "\n",
        "# Convert boolean values to 1 and 0\n",
        "merged_df_1['Match_accounting_system'] = (merged_df_1['Match_accounting_system'].astype(int))* (merged_df_1['count_accounting_system'])\n",
        "\n",
        "# Create 'Unmatch_accounting_system' column\n",
        "# If the transactionid is similar but total_amount is not similar, set to 1, else set to 0\n",
        "merged_df_1['Unmatch_accounting_system'] = (merged_df_1['transactionid'].notnull()) & (~(merged_df_1['Match_accounting_system'].astype(bool))) & (merged_df_1['total_amount_web_app'] != merged_df_1['total_amount_accounting_system'])\n",
        "merged_df_1['Unmatch_accounting_system'] = (merged_df_1['Unmatch_accounting_system'].astype(int)) * (merged_df_1['count_accounting_system'])\n"
      ],
      "metadata": {
        "id": "0LwdVd7OnA_i"
      },
      "execution_count": 7,
      "outputs": []
    },
    {
      "cell_type": "code",
      "source": [
        "# Select only the desired columns\n",
        "result_df_1 = merged_df_1[['Match_accounting_system', 'Unmatch_accounting_system']]\n",
        "\n",
        "\n",
        "# Calculate the sum of each column\n",
        "sum_match_accounting_system = result_df_1['Match_accounting_system'].sum()\n",
        "sum_unmatch_accounting_system = result_df_1['Unmatch_accounting_system'].sum()\n",
        "\n",
        "# Create a DataFrame to display the sums\n",
        "sum_df_1 = pd.DataFrame({'Match_accounting_system': [sum_match_web_app],\n",
        "                       'Unmatch_accounting_system': [sum_unmatch_accounting_system]})\n",
        "\n"
      ],
      "metadata": {
        "id": "xK3LrOMEnA8i"
      },
      "execution_count": 8,
      "outputs": []
    },
    {
      "cell_type": "code",
      "source": [
        "result = pd.DataFrame({\n",
        "            'Source': ['web_app', 'accounting_system'],\n",
        "            'Match' : [sum_df.iloc[0:1, 0][0], sum_df_1.iloc[0:1, 0][0]],\n",
        "            'Unmatch' :[sum_df.iloc[0:1, 1][0], sum_df_1.iloc[0:1, 1][0]]\n",
        "})\n",
        "\n",
        "\n",
        "result"
      ],
      "metadata": {
        "colab": {
          "base_uri": "https://localhost:8080/",
          "height": 112
        },
        "id": "h_T1s3lCnA5x",
        "outputId": "f8f9518a-9098-4bcd-87ef-3294716c19f3"
      },
      "execution_count": 9,
      "outputs": [
        {
          "output_type": "execute_result",
          "data": {
            "text/plain": [
              "              Source  Match  Unmatch\n",
              "0            web_app      9        3\n",
              "1  accounting_system      9        6"
            ],
            "text/html": [
              "\n",
              "  <div id=\"df-ba7bf8d6-85e8-413a-9457-e4236f110877\" class=\"colab-df-container\">\n",
              "    <div>\n",
              "<style scoped>\n",
              "    .dataframe tbody tr th:only-of-type {\n",
              "        vertical-align: middle;\n",
              "    }\n",
              "\n",
              "    .dataframe tbody tr th {\n",
              "        vertical-align: top;\n",
              "    }\n",
              "\n",
              "    .dataframe thead th {\n",
              "        text-align: right;\n",
              "    }\n",
              "</style>\n",
              "<table border=\"1\" class=\"dataframe\">\n",
              "  <thead>\n",
              "    <tr style=\"text-align: right;\">\n",
              "      <th></th>\n",
              "      <th>Source</th>\n",
              "      <th>Match</th>\n",
              "      <th>Unmatch</th>\n",
              "    </tr>\n",
              "  </thead>\n",
              "  <tbody>\n",
              "    <tr>\n",
              "      <th>0</th>\n",
              "      <td>web_app</td>\n",
              "      <td>9</td>\n",
              "      <td>3</td>\n",
              "    </tr>\n",
              "    <tr>\n",
              "      <th>1</th>\n",
              "      <td>accounting_system</td>\n",
              "      <td>9</td>\n",
              "      <td>6</td>\n",
              "    </tr>\n",
              "  </tbody>\n",
              "</table>\n",
              "</div>\n",
              "    <div class=\"colab-df-buttons\">\n",
              "\n",
              "  <div class=\"colab-df-container\">\n",
              "    <button class=\"colab-df-convert\" onclick=\"convertToInteractive('df-ba7bf8d6-85e8-413a-9457-e4236f110877')\"\n",
              "            title=\"Convert this dataframe to an interactive table.\"\n",
              "            style=\"display:none;\">\n",
              "\n",
              "  <svg xmlns=\"http://www.w3.org/2000/svg\" height=\"24px\" viewBox=\"0 -960 960 960\">\n",
              "    <path d=\"M120-120v-720h720v720H120Zm60-500h600v-160H180v160Zm220 220h160v-160H400v160Zm0 220h160v-160H400v160ZM180-400h160v-160H180v160Zm440 0h160v-160H620v160ZM180-180h160v-160H180v160Zm440 0h160v-160H620v160Z\"/>\n",
              "  </svg>\n",
              "    </button>\n",
              "\n",
              "  <style>\n",
              "    .colab-df-container {\n",
              "      display:flex;\n",
              "      gap: 12px;\n",
              "    }\n",
              "\n",
              "    .colab-df-convert {\n",
              "      background-color: #E8F0FE;\n",
              "      border: none;\n",
              "      border-radius: 50%;\n",
              "      cursor: pointer;\n",
              "      display: none;\n",
              "      fill: #1967D2;\n",
              "      height: 32px;\n",
              "      padding: 0 0 0 0;\n",
              "      width: 32px;\n",
              "    }\n",
              "\n",
              "    .colab-df-convert:hover {\n",
              "      background-color: #E2EBFA;\n",
              "      box-shadow: 0px 1px 2px rgba(60, 64, 67, 0.3), 0px 1px 3px 1px rgba(60, 64, 67, 0.15);\n",
              "      fill: #174EA6;\n",
              "    }\n",
              "\n",
              "    .colab-df-buttons div {\n",
              "      margin-bottom: 4px;\n",
              "    }\n",
              "\n",
              "    [theme=dark] .colab-df-convert {\n",
              "      background-color: #3B4455;\n",
              "      fill: #D2E3FC;\n",
              "    }\n",
              "\n",
              "    [theme=dark] .colab-df-convert:hover {\n",
              "      background-color: #434B5C;\n",
              "      box-shadow: 0px 1px 3px 1px rgba(0, 0, 0, 0.15);\n",
              "      filter: drop-shadow(0px 1px 2px rgba(0, 0, 0, 0.3));\n",
              "      fill: #FFFFFF;\n",
              "    }\n",
              "  </style>\n",
              "\n",
              "    <script>\n",
              "      const buttonEl =\n",
              "        document.querySelector('#df-ba7bf8d6-85e8-413a-9457-e4236f110877 button.colab-df-convert');\n",
              "      buttonEl.style.display =\n",
              "        google.colab.kernel.accessAllowed ? 'block' : 'none';\n",
              "\n",
              "      async function convertToInteractive(key) {\n",
              "        const element = document.querySelector('#df-ba7bf8d6-85e8-413a-9457-e4236f110877');\n",
              "        const dataTable =\n",
              "          await google.colab.kernel.invokeFunction('convertToInteractive',\n",
              "                                                    [key], {});\n",
              "        if (!dataTable) return;\n",
              "\n",
              "        const docLinkHtml = 'Like what you see? Visit the ' +\n",
              "          '<a target=\"_blank\" href=https://colab.research.google.com/notebooks/data_table.ipynb>data table notebook</a>'\n",
              "          + ' to learn more about interactive tables.';\n",
              "        element.innerHTML = '';\n",
              "        dataTable['output_type'] = 'display_data';\n",
              "        await google.colab.output.renderOutput(dataTable, element);\n",
              "        const docLink = document.createElement('div');\n",
              "        docLink.innerHTML = docLinkHtml;\n",
              "        element.appendChild(docLink);\n",
              "      }\n",
              "    </script>\n",
              "  </div>\n",
              "\n",
              "\n",
              "<div id=\"df-13a4f2cb-1c85-4384-b930-3d77dfe32d38\">\n",
              "  <button class=\"colab-df-quickchart\" onclick=\"quickchart('df-13a4f2cb-1c85-4384-b930-3d77dfe32d38')\"\n",
              "            title=\"Suggest charts\"\n",
              "            style=\"display:none;\">\n",
              "\n",
              "<svg xmlns=\"http://www.w3.org/2000/svg\" height=\"24px\"viewBox=\"0 0 24 24\"\n",
              "     width=\"24px\">\n",
              "    <g>\n",
              "        <path d=\"M19 3H5c-1.1 0-2 .9-2 2v14c0 1.1.9 2 2 2h14c1.1 0 2-.9 2-2V5c0-1.1-.9-2-2-2zM9 17H7v-7h2v7zm4 0h-2V7h2v10zm4 0h-2v-4h2v4z\"/>\n",
              "    </g>\n",
              "</svg>\n",
              "  </button>\n",
              "\n",
              "<style>\n",
              "  .colab-df-quickchart {\n",
              "      --bg-color: #E8F0FE;\n",
              "      --fill-color: #1967D2;\n",
              "      --hover-bg-color: #E2EBFA;\n",
              "      --hover-fill-color: #174EA6;\n",
              "      --disabled-fill-color: #AAA;\n",
              "      --disabled-bg-color: #DDD;\n",
              "  }\n",
              "\n",
              "  [theme=dark] .colab-df-quickchart {\n",
              "      --bg-color: #3B4455;\n",
              "      --fill-color: #D2E3FC;\n",
              "      --hover-bg-color: #434B5C;\n",
              "      --hover-fill-color: #FFFFFF;\n",
              "      --disabled-bg-color: #3B4455;\n",
              "      --disabled-fill-color: #666;\n",
              "  }\n",
              "\n",
              "  .colab-df-quickchart {\n",
              "    background-color: var(--bg-color);\n",
              "    border: none;\n",
              "    border-radius: 50%;\n",
              "    cursor: pointer;\n",
              "    display: none;\n",
              "    fill: var(--fill-color);\n",
              "    height: 32px;\n",
              "    padding: 0;\n",
              "    width: 32px;\n",
              "  }\n",
              "\n",
              "  .colab-df-quickchart:hover {\n",
              "    background-color: var(--hover-bg-color);\n",
              "    box-shadow: 0 1px 2px rgba(60, 64, 67, 0.3), 0 1px 3px 1px rgba(60, 64, 67, 0.15);\n",
              "    fill: var(--button-hover-fill-color);\n",
              "  }\n",
              "\n",
              "  .colab-df-quickchart-complete:disabled,\n",
              "  .colab-df-quickchart-complete:disabled:hover {\n",
              "    background-color: var(--disabled-bg-color);\n",
              "    fill: var(--disabled-fill-color);\n",
              "    box-shadow: none;\n",
              "  }\n",
              "\n",
              "  .colab-df-spinner {\n",
              "    border: 2px solid var(--fill-color);\n",
              "    border-color: transparent;\n",
              "    border-bottom-color: var(--fill-color);\n",
              "    animation:\n",
              "      spin 1s steps(1) infinite;\n",
              "  }\n",
              "\n",
              "  @keyframes spin {\n",
              "    0% {\n",
              "      border-color: transparent;\n",
              "      border-bottom-color: var(--fill-color);\n",
              "      border-left-color: var(--fill-color);\n",
              "    }\n",
              "    20% {\n",
              "      border-color: transparent;\n",
              "      border-left-color: var(--fill-color);\n",
              "      border-top-color: var(--fill-color);\n",
              "    }\n",
              "    30% {\n",
              "      border-color: transparent;\n",
              "      border-left-color: var(--fill-color);\n",
              "      border-top-color: var(--fill-color);\n",
              "      border-right-color: var(--fill-color);\n",
              "    }\n",
              "    40% {\n",
              "      border-color: transparent;\n",
              "      border-right-color: var(--fill-color);\n",
              "      border-top-color: var(--fill-color);\n",
              "    }\n",
              "    60% {\n",
              "      border-color: transparent;\n",
              "      border-right-color: var(--fill-color);\n",
              "    }\n",
              "    80% {\n",
              "      border-color: transparent;\n",
              "      border-right-color: var(--fill-color);\n",
              "      border-bottom-color: var(--fill-color);\n",
              "    }\n",
              "    90% {\n",
              "      border-color: transparent;\n",
              "      border-bottom-color: var(--fill-color);\n",
              "    }\n",
              "  }\n",
              "</style>\n",
              "\n",
              "  <script>\n",
              "    async function quickchart(key) {\n",
              "      const quickchartButtonEl =\n",
              "        document.querySelector('#' + key + ' button');\n",
              "      quickchartButtonEl.disabled = true;  // To prevent multiple clicks.\n",
              "      quickchartButtonEl.classList.add('colab-df-spinner');\n",
              "      try {\n",
              "        const charts = await google.colab.kernel.invokeFunction(\n",
              "            'suggestCharts', [key], {});\n",
              "      } catch (error) {\n",
              "        console.error('Error during call to suggestCharts:', error);\n",
              "      }\n",
              "      quickchartButtonEl.classList.remove('colab-df-spinner');\n",
              "      quickchartButtonEl.classList.add('colab-df-quickchart-complete');\n",
              "    }\n",
              "    (() => {\n",
              "      let quickchartButtonEl =\n",
              "        document.querySelector('#df-13a4f2cb-1c85-4384-b930-3d77dfe32d38 button');\n",
              "      quickchartButtonEl.style.display =\n",
              "        google.colab.kernel.accessAllowed ? 'block' : 'none';\n",
              "    })();\n",
              "  </script>\n",
              "</div>\n",
              "    </div>\n",
              "  </div>\n"
            ],
            "application/vnd.google.colaboratory.intrinsic+json": {
              "type": "dataframe",
              "variable_name": "result",
              "summary": "{\n  \"name\": \"result\",\n  \"rows\": 2,\n  \"fields\": [\n    {\n      \"column\": \"Source\",\n      \"properties\": {\n        \"dtype\": \"string\",\n        \"samples\": [\n          \"accounting_system\",\n          \"web_app\"\n        ],\n        \"num_unique_values\": 2,\n        \"semantic_type\": \"\",\n        \"description\": \"\"\n      }\n    },\n    {\n      \"column\": \"Match\",\n      \"properties\": {\n        \"dtype\": \"number\",\n        \"std\": 0,\n        \"min\": 9,\n        \"max\": 9,\n        \"samples\": [\n          9\n        ],\n        \"num_unique_values\": 1,\n        \"semantic_type\": \"\",\n        \"description\": \"\"\n      }\n    },\n    {\n      \"column\": \"Unmatch\",\n      \"properties\": {\n        \"dtype\": \"number\",\n        \"std\": 2,\n        \"min\": 3,\n        \"max\": 6,\n        \"samples\": [\n          6\n        ],\n        \"num_unique_values\": 2,\n        \"semantic_type\": \"\",\n        \"description\": \"\"\n      }\n    }\n  ]\n}"
            }
          },
          "metadata": {},
          "execution_count": 9
        }
      ]
    },
    {
      "cell_type": "markdown",
      "source": [
        "##*Comparison accounting_system – payment_service_provider*"
      ],
      "metadata": {
        "id": "e3xUpCvvpH0u"
      }
    },
    {
      "cell_type": "code",
      "source": [
        "# Merge accounting_system_df with payment_service_provider using left join\n",
        "merged_df_2 = pd.merge(accounting_system_df, payment_service_provider_df, on='transactionid', suffixes=('_accounting_system', '_payment_service_provider'), how='left')\n",
        "\n",
        "# Create 'Match_accounting_syste' column\n",
        "merged_df_2['Match_accounting_system'] = (merged_df_2['amount_accounting_system'] == merged_df_2['amount_payment_service_provider']) & (merged_df_2['total_amount_accounting_system'] == merged_df_2['total_amount_payment_service_provider'])\n",
        "\n",
        "# Convert boolean values to 1 and 0\n",
        "merged_df_2['Match_accounting_system'] = (merged_df_2['Match_accounting_system'].astype(int)) *  (merged_df_2['count_accounting_system'])\n",
        "\n",
        "# Create 'Unmatch_accounting_syste' column\n",
        "# If the transactionid is similar but total_amount is not similar, set to 1, else set to 0\n",
        "merged_df_2['Unmatch_accounting_system'] = (merged_df_2['transactionid'].notnull()) & (~(merged_df_2['Match_accounting_system'].astype(bool))) & (merged_df_2['total_amount_accounting_system'] != merged_df_2['total_amount_payment_service_provider'])\n",
        "merged_df_2['Unmatch_accounting_system'] = (merged_df_2['Unmatch_accounting_system'].astype(int)) *  (merged_df_2['count_accounting_system'])\n"
      ],
      "metadata": {
        "id": "-p3dRWjKnA0o"
      },
      "execution_count": 10,
      "outputs": []
    },
    {
      "cell_type": "code",
      "source": [
        "# Select only the desired columns\n",
        "result_df_2 = merged_df_2[['Match_accounting_system', 'Unmatch_accounting_system']]\n",
        "\n",
        "# Calculate the sum of each column\n",
        "sum_match_accounting_system = result_df_2['Match_accounting_system'].sum()\n",
        "sum_unmatch_accounting_system = result_df_2['Unmatch_accounting_system'].sum()\n",
        "\n",
        "# Create a DataFrame to display the sums\n",
        "sum_df_2 = pd.DataFrame({'Match_accounting_system': [sum_match_accounting_system],\n",
        "                       'Unmatch_accounting_system': [sum_unmatch_accounting_system]})\n",
        "\n"
      ],
      "metadata": {
        "id": "29GxdgCRnAx_"
      },
      "execution_count": 11,
      "outputs": []
    },
    {
      "cell_type": "code",
      "source": [
        "# Merge payment_service_provider_df with accounting_system_df using left join\n",
        "merged_df_3 = pd.merge(payment_service_provider_df, accounting_system_df, on='transactionid', suffixes=('_payment_service_provider','_accounting_system'), how='left')\n",
        "\n",
        "# Create 'Match_payment_service_provider' column\n",
        "merged_df_3['Match_payment_service_provider'] = (merged_df_3['amount_payment_service_provider'] == merged_df_3['amount_accounting_system']) & (merged_df_3['total_amount_payment_service_provider'] == merged_df_3['total_amount_accounting_system'])\n",
        "\n",
        "# Convert boolean values to 1 and 0\n",
        "merged_df_3['Match_payment_service_provider'] = (merged_df_3['Match_payment_service_provider'].astype(int))* (merged_df_3['count_payment_service_provider'])\n",
        "\n",
        "# Create 'Unmatch_payment_service_provider' column\n",
        "# If the transactionid is similar but total_amount is not similar, set to 1, else set to 0\n",
        "merged_df_3['Unmatch_payment_service_provider'] = (merged_df_3['transactionid'].notnull()) & (~(merged_df_3['Match_payment_service_provider'].astype(bool))) & (merged_df_3['total_amount_accounting_system'] != merged_df_3['total_amount_payment_service_provider'])\n",
        "merged_df_3['Unmatch_payment_service_provider'] = (merged_df_3['Unmatch_payment_service_provider'].astype(int)) * (merged_df_3['count_payment_service_provider'])\n"
      ],
      "metadata": {
        "id": "CjWtIfdlnAvY"
      },
      "execution_count": 12,
      "outputs": []
    },
    {
      "cell_type": "code",
      "source": [
        "# Select only the desired columns\n",
        "result_df_3 = merged_df_3[['Match_payment_service_provider', 'Unmatch_payment_service_provider']]\n",
        "\n",
        "\n",
        "# Calculate the sum of each column\n",
        "sum_match_payment_service_provider = result_df_3['Match_payment_service_provider'].sum()\n",
        "sum_unmatch_payment_service_provider = result_df_3['Unmatch_payment_service_provider'].sum()\n",
        "\n",
        "# Create a DataFrame to display the sums\n",
        "sum_df_3 = pd.DataFrame({'Match_payment_service_provider': [sum_match_payment_service_provider],\n",
        "                       'Unmatch_payment_service_provider': [sum_unmatch_payment_service_provider]})"
      ],
      "metadata": {
        "id": "73qovWXtnAsg"
      },
      "execution_count": 13,
      "outputs": []
    },
    {
      "cell_type": "code",
      "source": [
        "result_1 = pd.DataFrame({\n",
        "            'Source': ['accounting_system', 'payment_service_provider'],\n",
        "            'Match' : [sum_df_2.iloc[0:1, 0][0], sum_df_3.iloc[0:1, 0][0]],\n",
        "            'Unmatch' :[sum_df_2.iloc[0:1, 1][0], sum_df_3.iloc[0:1, 1][0]]\n",
        "})\n",
        "\n",
        "\n",
        "result_1"
      ],
      "metadata": {
        "colab": {
          "base_uri": "https://localhost:8080/",
          "height": 112
        },
        "id": "j0uKs6yZnAp3",
        "outputId": "c39b3a58-9a83-4f5c-df1d-37940656cf85"
      },
      "execution_count": 14,
      "outputs": [
        {
          "output_type": "execute_result",
          "data": {
            "text/plain": [
              "                     Source  Match  Unmatch\n",
              "0         accounting_system      9        6\n",
              "1  payment_service_provider      9        4"
            ],
            "text/html": [
              "\n",
              "  <div id=\"df-44622cfd-228d-4704-84c4-b6eb7d68d414\" class=\"colab-df-container\">\n",
              "    <div>\n",
              "<style scoped>\n",
              "    .dataframe tbody tr th:only-of-type {\n",
              "        vertical-align: middle;\n",
              "    }\n",
              "\n",
              "    .dataframe tbody tr th {\n",
              "        vertical-align: top;\n",
              "    }\n",
              "\n",
              "    .dataframe thead th {\n",
              "        text-align: right;\n",
              "    }\n",
              "</style>\n",
              "<table border=\"1\" class=\"dataframe\">\n",
              "  <thead>\n",
              "    <tr style=\"text-align: right;\">\n",
              "      <th></th>\n",
              "      <th>Source</th>\n",
              "      <th>Match</th>\n",
              "      <th>Unmatch</th>\n",
              "    </tr>\n",
              "  </thead>\n",
              "  <tbody>\n",
              "    <tr>\n",
              "      <th>0</th>\n",
              "      <td>accounting_system</td>\n",
              "      <td>9</td>\n",
              "      <td>6</td>\n",
              "    </tr>\n",
              "    <tr>\n",
              "      <th>1</th>\n",
              "      <td>payment_service_provider</td>\n",
              "      <td>9</td>\n",
              "      <td>4</td>\n",
              "    </tr>\n",
              "  </tbody>\n",
              "</table>\n",
              "</div>\n",
              "    <div class=\"colab-df-buttons\">\n",
              "\n",
              "  <div class=\"colab-df-container\">\n",
              "    <button class=\"colab-df-convert\" onclick=\"convertToInteractive('df-44622cfd-228d-4704-84c4-b6eb7d68d414')\"\n",
              "            title=\"Convert this dataframe to an interactive table.\"\n",
              "            style=\"display:none;\">\n",
              "\n",
              "  <svg xmlns=\"http://www.w3.org/2000/svg\" height=\"24px\" viewBox=\"0 -960 960 960\">\n",
              "    <path d=\"M120-120v-720h720v720H120Zm60-500h600v-160H180v160Zm220 220h160v-160H400v160Zm0 220h160v-160H400v160ZM180-400h160v-160H180v160Zm440 0h160v-160H620v160ZM180-180h160v-160H180v160Zm440 0h160v-160H620v160Z\"/>\n",
              "  </svg>\n",
              "    </button>\n",
              "\n",
              "  <style>\n",
              "    .colab-df-container {\n",
              "      display:flex;\n",
              "      gap: 12px;\n",
              "    }\n",
              "\n",
              "    .colab-df-convert {\n",
              "      background-color: #E8F0FE;\n",
              "      border: none;\n",
              "      border-radius: 50%;\n",
              "      cursor: pointer;\n",
              "      display: none;\n",
              "      fill: #1967D2;\n",
              "      height: 32px;\n",
              "      padding: 0 0 0 0;\n",
              "      width: 32px;\n",
              "    }\n",
              "\n",
              "    .colab-df-convert:hover {\n",
              "      background-color: #E2EBFA;\n",
              "      box-shadow: 0px 1px 2px rgba(60, 64, 67, 0.3), 0px 1px 3px 1px rgba(60, 64, 67, 0.15);\n",
              "      fill: #174EA6;\n",
              "    }\n",
              "\n",
              "    .colab-df-buttons div {\n",
              "      margin-bottom: 4px;\n",
              "    }\n",
              "\n",
              "    [theme=dark] .colab-df-convert {\n",
              "      background-color: #3B4455;\n",
              "      fill: #D2E3FC;\n",
              "    }\n",
              "\n",
              "    [theme=dark] .colab-df-convert:hover {\n",
              "      background-color: #434B5C;\n",
              "      box-shadow: 0px 1px 3px 1px rgba(0, 0, 0, 0.15);\n",
              "      filter: drop-shadow(0px 1px 2px rgba(0, 0, 0, 0.3));\n",
              "      fill: #FFFFFF;\n",
              "    }\n",
              "  </style>\n",
              "\n",
              "    <script>\n",
              "      const buttonEl =\n",
              "        document.querySelector('#df-44622cfd-228d-4704-84c4-b6eb7d68d414 button.colab-df-convert');\n",
              "      buttonEl.style.display =\n",
              "        google.colab.kernel.accessAllowed ? 'block' : 'none';\n",
              "\n",
              "      async function convertToInteractive(key) {\n",
              "        const element = document.querySelector('#df-44622cfd-228d-4704-84c4-b6eb7d68d414');\n",
              "        const dataTable =\n",
              "          await google.colab.kernel.invokeFunction('convertToInteractive',\n",
              "                                                    [key], {});\n",
              "        if (!dataTable) return;\n",
              "\n",
              "        const docLinkHtml = 'Like what you see? Visit the ' +\n",
              "          '<a target=\"_blank\" href=https://colab.research.google.com/notebooks/data_table.ipynb>data table notebook</a>'\n",
              "          + ' to learn more about interactive tables.';\n",
              "        element.innerHTML = '';\n",
              "        dataTable['output_type'] = 'display_data';\n",
              "        await google.colab.output.renderOutput(dataTable, element);\n",
              "        const docLink = document.createElement('div');\n",
              "        docLink.innerHTML = docLinkHtml;\n",
              "        element.appendChild(docLink);\n",
              "      }\n",
              "    </script>\n",
              "  </div>\n",
              "\n",
              "\n",
              "<div id=\"df-305b67a8-7f5c-4f07-9832-4fea8e94153d\">\n",
              "  <button class=\"colab-df-quickchart\" onclick=\"quickchart('df-305b67a8-7f5c-4f07-9832-4fea8e94153d')\"\n",
              "            title=\"Suggest charts\"\n",
              "            style=\"display:none;\">\n",
              "\n",
              "<svg xmlns=\"http://www.w3.org/2000/svg\" height=\"24px\"viewBox=\"0 0 24 24\"\n",
              "     width=\"24px\">\n",
              "    <g>\n",
              "        <path d=\"M19 3H5c-1.1 0-2 .9-2 2v14c0 1.1.9 2 2 2h14c1.1 0 2-.9 2-2V5c0-1.1-.9-2-2-2zM9 17H7v-7h2v7zm4 0h-2V7h2v10zm4 0h-2v-4h2v4z\"/>\n",
              "    </g>\n",
              "</svg>\n",
              "  </button>\n",
              "\n",
              "<style>\n",
              "  .colab-df-quickchart {\n",
              "      --bg-color: #E8F0FE;\n",
              "      --fill-color: #1967D2;\n",
              "      --hover-bg-color: #E2EBFA;\n",
              "      --hover-fill-color: #174EA6;\n",
              "      --disabled-fill-color: #AAA;\n",
              "      --disabled-bg-color: #DDD;\n",
              "  }\n",
              "\n",
              "  [theme=dark] .colab-df-quickchart {\n",
              "      --bg-color: #3B4455;\n",
              "      --fill-color: #D2E3FC;\n",
              "      --hover-bg-color: #434B5C;\n",
              "      --hover-fill-color: #FFFFFF;\n",
              "      --disabled-bg-color: #3B4455;\n",
              "      --disabled-fill-color: #666;\n",
              "  }\n",
              "\n",
              "  .colab-df-quickchart {\n",
              "    background-color: var(--bg-color);\n",
              "    border: none;\n",
              "    border-radius: 50%;\n",
              "    cursor: pointer;\n",
              "    display: none;\n",
              "    fill: var(--fill-color);\n",
              "    height: 32px;\n",
              "    padding: 0;\n",
              "    width: 32px;\n",
              "  }\n",
              "\n",
              "  .colab-df-quickchart:hover {\n",
              "    background-color: var(--hover-bg-color);\n",
              "    box-shadow: 0 1px 2px rgba(60, 64, 67, 0.3), 0 1px 3px 1px rgba(60, 64, 67, 0.15);\n",
              "    fill: var(--button-hover-fill-color);\n",
              "  }\n",
              "\n",
              "  .colab-df-quickchart-complete:disabled,\n",
              "  .colab-df-quickchart-complete:disabled:hover {\n",
              "    background-color: var(--disabled-bg-color);\n",
              "    fill: var(--disabled-fill-color);\n",
              "    box-shadow: none;\n",
              "  }\n",
              "\n",
              "  .colab-df-spinner {\n",
              "    border: 2px solid var(--fill-color);\n",
              "    border-color: transparent;\n",
              "    border-bottom-color: var(--fill-color);\n",
              "    animation:\n",
              "      spin 1s steps(1) infinite;\n",
              "  }\n",
              "\n",
              "  @keyframes spin {\n",
              "    0% {\n",
              "      border-color: transparent;\n",
              "      border-bottom-color: var(--fill-color);\n",
              "      border-left-color: var(--fill-color);\n",
              "    }\n",
              "    20% {\n",
              "      border-color: transparent;\n",
              "      border-left-color: var(--fill-color);\n",
              "      border-top-color: var(--fill-color);\n",
              "    }\n",
              "    30% {\n",
              "      border-color: transparent;\n",
              "      border-left-color: var(--fill-color);\n",
              "      border-top-color: var(--fill-color);\n",
              "      border-right-color: var(--fill-color);\n",
              "    }\n",
              "    40% {\n",
              "      border-color: transparent;\n",
              "      border-right-color: var(--fill-color);\n",
              "      border-top-color: var(--fill-color);\n",
              "    }\n",
              "    60% {\n",
              "      border-color: transparent;\n",
              "      border-right-color: var(--fill-color);\n",
              "    }\n",
              "    80% {\n",
              "      border-color: transparent;\n",
              "      border-right-color: var(--fill-color);\n",
              "      border-bottom-color: var(--fill-color);\n",
              "    }\n",
              "    90% {\n",
              "      border-color: transparent;\n",
              "      border-bottom-color: var(--fill-color);\n",
              "    }\n",
              "  }\n",
              "</style>\n",
              "\n",
              "  <script>\n",
              "    async function quickchart(key) {\n",
              "      const quickchartButtonEl =\n",
              "        document.querySelector('#' + key + ' button');\n",
              "      quickchartButtonEl.disabled = true;  // To prevent multiple clicks.\n",
              "      quickchartButtonEl.classList.add('colab-df-spinner');\n",
              "      try {\n",
              "        const charts = await google.colab.kernel.invokeFunction(\n",
              "            'suggestCharts', [key], {});\n",
              "      } catch (error) {\n",
              "        console.error('Error during call to suggestCharts:', error);\n",
              "      }\n",
              "      quickchartButtonEl.classList.remove('colab-df-spinner');\n",
              "      quickchartButtonEl.classList.add('colab-df-quickchart-complete');\n",
              "    }\n",
              "    (() => {\n",
              "      let quickchartButtonEl =\n",
              "        document.querySelector('#df-305b67a8-7f5c-4f07-9832-4fea8e94153d button');\n",
              "      quickchartButtonEl.style.display =\n",
              "        google.colab.kernel.accessAllowed ? 'block' : 'none';\n",
              "    })();\n",
              "  </script>\n",
              "</div>\n",
              "    </div>\n",
              "  </div>\n"
            ],
            "application/vnd.google.colaboratory.intrinsic+json": {
              "type": "dataframe",
              "variable_name": "result_1",
              "summary": "{\n  \"name\": \"result_1\",\n  \"rows\": 2,\n  \"fields\": [\n    {\n      \"column\": \"Source\",\n      \"properties\": {\n        \"dtype\": \"string\",\n        \"samples\": [\n          \"payment_service_provider\",\n          \"accounting_system\"\n        ],\n        \"num_unique_values\": 2,\n        \"semantic_type\": \"\",\n        \"description\": \"\"\n      }\n    },\n    {\n      \"column\": \"Match\",\n      \"properties\": {\n        \"dtype\": \"number\",\n        \"std\": 0,\n        \"min\": 9,\n        \"max\": 9,\n        \"samples\": [\n          9\n        ],\n        \"num_unique_values\": 1,\n        \"semantic_type\": \"\",\n        \"description\": \"\"\n      }\n    },\n    {\n      \"column\": \"Unmatch\",\n      \"properties\": {\n        \"dtype\": \"number\",\n        \"std\": 1,\n        \"min\": 4,\n        \"max\": 6,\n        \"samples\": [\n          4\n        ],\n        \"num_unique_values\": 2,\n        \"semantic_type\": \"\",\n        \"description\": \"\"\n      }\n    }\n  ]\n}"
            }
          },
          "metadata": {},
          "execution_count": 14
        }
      ]
    }
  ]
}